{
 "cells": [
  {
   "cell_type": "code",
   "execution_count": 6,
   "id": "b75b3b4a",
   "metadata": {},
   "outputs": [],
   "source": [
    "import numpy as np\n",
    "import pandas as pd\n",
    "from geopy.geocoders import Nominatim\n",
    "from countryinfo import CountryInfo"
   ]
  },
  {
   "cell_type": "code",
   "execution_count": 13,
   "id": "e7802181",
   "metadata": {
    "scrolled": false
   },
   "outputs": [],
   "source": [
    "# Load data from file\n",
    "flood = pd.read_excel('FloodArchive.xlsx', engine='openpyxl')\n",
    "flood = np.array(flood)\n",
    "area_list = pd.read_csv('area.csv')\n",
    "area_list = np.array(area_list)\n",
    "\n",
    "geolocator = Nominatim(user_agent=\"geoapiExercises\")\n",
    "flood_cleaned = ['ID','GlideNumber','Country','OtherCountry','Long','Lat','Area','Began','Ended','Validation','Dead','Displaced','MainCause','Severity']\n",
    "unclassified = []\n",
    "deleted = []\n",
    "delimiters = [',and ', ',', ' and ', ', ', 'or']"
   ]
  },
  {
   "cell_type": "code",
   "execution_count": 3,
   "id": "d8845e61",
   "metadata": {},
   "outputs": [],
   "source": [
    "# clean space and other undentified characters in data\n",
    "for i in range(flood.shape[0]):\n",
    "    if isinstance(flood[i][1],str):\n",
    "        flood[i][1] = flood[i][1].replace(u'\\xa0', '').replace(',', '').strip(\" \")\n",
    "    flood[i][2] = flood[i][2].replace(u'\\xa0', '').strip(\" \")\n",
    "    if isinstance(flood[i][3],str):\n",
    "        flood[i][3] = flood[i][3].replace(u'\\xa0', '').strip(\" \")\n",
    "    if isinstance(flood[i][12],str):\n",
    "        for delimiter in delimiters:\n",
    "            if flood[i][12].find(delimiter)>=0:\n",
    "                flood[i][12] = flood[i][12].replace(delimiter, '/').replace(u'\\xa0', '').strip(\" \")"
   ]
  },
  {
   "cell_type": "code",
   "execution_count": 4,
   "id": "6357b3d9",
   "metadata": {},
   "outputs": [],
   "source": [
    "# get country names according to longitude and lattitude\n",
    "def get_country(coord):\n",
    "    location = geolocator.reverse(coord, exactly_one=True, language='en')\n",
    "    if location is not None:\n",
    "        address = location.raw['address']\n",
    "        country = address.get('country', '')\n",
    "        return country\n",
    "    else:\n",
    "        return None"
   ]
  },
  {
   "cell_type": "code",
   "execution_count": 5,
   "id": "728f277d",
   "metadata": {},
   "outputs": [
    {
     "name": "stdout",
     "output_type": "stream",
     "text": [
      "ID 80 has quality issue with area beyond actual value\n",
      "ID 106 has quality issue with area beyond actual value\n",
      "ID 146 has quality issue with area beyond actual value\n",
      "ID 196 has quality issue with area beyond actual value\n",
      "ID 227 has quality issue with area beyond actual value\n",
      "ID 490 has quality issue with area beyond actual value\n",
      "ID 508 has quality issue with area beyond actual value\n",
      "ID 558 has quality issue with area beyond actual value\n",
      "ID 611 has quality issue with area beyond actual value\n",
      "ID 706 has quality issue with area beyond actual value\n",
      "ID 747 has quality issue with area beyond actual value\n",
      "ID 757 has quality issue with area beyond actual value\n",
      "ID 812 has quality issue with area beyond actual value\n",
      "ID 889 has quality issue with area beyond actual value\n",
      "ID 918 has quality issue with area beyond actual value\n",
      "ID 933 has quality issue with area beyond actual value\n",
      "ID 975 has quality issue with area beyond actual value\n",
      "ID 978 has quality issue with area beyond actual value\n",
      "ID 993 has quality issue with area beyond actual value\n",
      "ID 1002 has quality issue with area beyond actual value\n",
      "ID 1063 has quality issue with area beyond actual value\n",
      "ID 1113 has quality issue with area beyond actual value\n",
      "ID 1122 has quality issue with area beyond actual value\n",
      "ID 1126 has quality issue with area beyond actual value\n",
      "ID 1195 has quality issue with area beyond actual value\n",
      "ID 1279 has quality issue with area beyond actual value\n",
      "ID 1299 has quality issue with area beyond actual value\n",
      "ID 1303 has quality issue with area beyond actual value\n",
      "ID 1446 has quality issue with area beyond actual value\n",
      "ID 1464 has quality issue with area beyond actual value\n",
      "ID 1525 has quality issue with area beyond actual value\n",
      "ID 1527 has quality issue with area beyond actual value\n",
      "ID 1551 has quality issue with area beyond actual value\n",
      "ID 1558 has quality issue with area beyond actual value\n",
      "ID 1559 has quality issue with area beyond actual value\n",
      "ID 1562 has quality issue with area beyond actual value\n",
      "ID 1565 has quality issue with area beyond actual value\n",
      "ID 1766 has quality issue with area beyond actual value\n",
      "ID 1793 has quality issue with area beyond actual value\n",
      "ID 1917 has quality issue with area beyond actual value\n",
      "ID 1939 has quality issue with area beyond actual value\n",
      "ID 1942 has quality issue with area beyond actual value\n",
      "ID 1974 has quality issue with area beyond actual value\n",
      "ID 2073 has quality issue with area beyond actual value\n",
      "ID 2193 has quality issue with area beyond actual value\n",
      "ID 2200 has quality issue with area beyond actual value\n",
      "ID 2279 has quality issue with area beyond actual value\n",
      "ID 2450 has quality issue with area beyond actual value\n",
      "ID 2469 has quality issue with area beyond actual value\n",
      "ID 2524 has quality issue with area beyond actual value\n",
      "ID 2570 has quality issue with area beyond actual value\n",
      "ID 2640 has quality issue with area beyond actual value\n",
      "ID 2650 has quality issue with area beyond actual value\n",
      "ID 2677 has quality issue with area beyond actual value\n",
      "ID 2690 has quality issue with area beyond actual value\n",
      "ID 2744 has quality issue with area beyond actual value\n",
      "ID 2826 has quality issue with area beyond actual value\n",
      "ID 2827 has quality issue with area beyond actual value\n",
      "ID 2947 has quality issue with area beyond actual value\n",
      "ID 2978 has quality issue with area beyond actual value\n",
      "ID 2979 has quality issue with area beyond actual value\n",
      "ID 3013 has quality issue with area beyond actual value\n",
      "ID 3040 has quality issue with area beyond actual value\n",
      "ID 3136 has quality issue with area beyond actual value\n",
      "ID 3166 has quality issue with area beyond actual value\n",
      "ID 3205 has quality issue with area beyond actual value\n",
      "ID 3218 has quality issue with area beyond actual value\n",
      "ID 3316 has quality issue with area beyond actual value\n",
      "ID 3338 has quality issue with area beyond actual value\n",
      "ID 3343 has quality issue with area beyond actual value\n",
      "ID 3349 has quality issue with area beyond actual value\n",
      "ID 3351 has quality issue with area beyond actual value\n",
      "ID 3367 has quality issue with area beyond actual value\n",
      "ID 3369 has quality issue with area beyond actual value\n",
      "ID 3390 has quality issue with area beyond actual value\n",
      "ID 3450 has quality issue with area beyond actual value\n",
      "ID 3467 has quality issue with area beyond actual value\n",
      "ID 3490 has quality issue with area beyond actual value\n",
      "ID 3534 has quality issue with area beyond actual value\n",
      "ID 3574 has quality issue with area beyond actual value\n",
      "ID 3591 has quality issue with area beyond actual value\n",
      "ID 3630 has quality issue with area beyond actual value\n",
      "ID 3653 has quality issue with area beyond actual value\n",
      "ID 3750 has quality issue with area beyond actual value\n",
      "ID 3755 has quality issue with area beyond actual value\n",
      "ID 3915 has quality issue with area beyond actual value\n",
      "ID 4114 has quality issue with area beyond actual value\n",
      "ID 4131 has quality issue with area beyond actual value\n",
      "ID 4139 has quality issue with area beyond actual value\n",
      "ID 4194 has quality issue with area beyond actual value\n",
      "ID 4221 has quality issue with area beyond actual value\n",
      "ID 4260 has quality issue with area beyond actual value\n",
      "ID 4307 has quality issue with area beyond actual value\n",
      "ID 4312 has quality issue with area beyond actual value\n",
      "ID 4315 has quality issue with area beyond actual value\n",
      "ID 4412 has quality issue with area beyond actual value\n",
      "ID 4511 has quality issue with area beyond actual value\n",
      "ID 4531 has quality issue with area beyond actual value\n",
      "ID 4609 has quality issue with area beyond actual value\n",
      "ID 4734 has quality issue with area beyond actual value\n",
      "ID 4794 has quality issue with area beyond actual value\n",
      "ID 4903 has quality issue with area beyond actual value\n",
      "ID 4928 has quality issue with area beyond actual value\n",
      "ID 4956 has quality issue with area beyond actual value\n",
      "ID 4962 has quality issue with area beyond actual value\n",
      "ID 4970 has quality issue with area beyond actual value\n",
      "ID 5041 has quality issue with area beyond actual value\n"
     ]
    }
   ],
   "source": [
    "# data cleaning process\n",
    "for i in range(flood.shape[0]):\n",
    "    record = flood[i]\n",
    "    other_country = record[3]\n",
    "    area = record[6]\n",
    "    year = record[7].year\n",
    "    coordinate = str(record[5])+\", \"+str(record[4])\n",
    "    actual_country = get_country(coordinate)\n",
    "    record[2] = actual_country\n",
    "    \n",
    "    # correct country names\n",
    "    if actual_country in area_list[:,0]:\n",
    "        devia = year - 1985 + 25\n",
    "        index = area_list[:,0].tolist().index(actual_country)\n",
    "        actual_area = area_list[index, devia]\n",
    "    else:\n",
    "        unclassified.append(record)\n",
    "        continue\n",
    "    \n",
    "    if area <= actual_area:\n",
    "        flood_cleaned.append(record)\n",
    "    else:\n",
    "        print(f\"ID {record[0]} has quality issue with area beyond actual value\")\n",
    "        deleted.append(record)"
   ]
  },
  {
   "cell_type": "code",
   "execution_count": 6,
   "id": "50c1c815",
   "metadata": {},
   "outputs": [
    {
     "data": {
      "text/plain": [
       "(4977, 14)"
      ]
     },
     "execution_count": 6,
     "metadata": {},
     "output_type": "execute_result"
    }
   ],
   "source": [
    "flood_cleaned = np.array(flood_cleaned)\n",
    "flood_cleaned.shape"
   ]
  },
  {
   "cell_type": "code",
   "execution_count": 7,
   "id": "47ef9658",
   "metadata": {},
   "outputs": [],
   "source": [
    "np.savetxt('flood_cleaned.csv', flood_cleaned, delimiter=',', fmt = '%s')"
   ]
  },
  {
   "cell_type": "code",
   "execution_count": 8,
   "id": "f781ee1b",
   "metadata": {},
   "outputs": [],
   "source": [
    "np.savetxt('unclassified.csv', unclassified, delimiter=',', fmt = '%s')"
   ]
  },
  {
   "cell_type": "code",
   "execution_count": 105,
   "id": "2a12654c",
   "metadata": {},
   "outputs": [],
   "source": [
    "forest_list = np.array(pd.read_csv('forest area.csv'))\n",
    "co2_list = np.array(pd.read_csv('co2 emission.csv'))\n",
    "flood_cleaned = pd.read_csv('flood_cleaned.csv')\n",
    "country_list = set(flood_cleaned['Country'].tolist())"
   ]
  },
  {
   "cell_type": "code",
   "execution_count": 106,
   "id": "b855b27e",
   "metadata": {},
   "outputs": [],
   "source": [
    "forest_cleaned = []\n",
    "co2_cleaned = []\n",
    "for forest in forest_list:\n",
    "    if forest[0] in country_list:\n",
    "        forest_cleaned.append(forest)\n",
    "        \n",
    "for co2 in co2_list:\n",
    "    if co2[0] in country_list:\n",
    "        co2_cleaned.append(co2)"
   ]
  },
  {
   "cell_type": "code",
   "execution_count": 107,
   "id": "ba68a352",
   "metadata": {},
   "outputs": [],
   "source": [
    "np.savetxt('co2_cleaned.csv', co2_cleaned, delimiter=',', fmt = '%s')\n",
    "np.savetxt('forest_cleaned.csv', forest_cleaned, delimiter=',', fmt = '%s')"
   ]
  },
  {
   "cell_type": "code",
   "execution_count": 23,
   "id": "55dc908b",
   "metadata": {},
   "outputs": [],
   "source": [
    "forest_list = np.array(pd.read_csv('forest_cleaned.csv'))\n",
    "co2_list = np.array(pd.read_csv('co2_cleaned.csv'))"
   ]
  },
  {
   "cell_type": "code",
   "execution_count": 24,
   "id": "de032d55",
   "metadata": {},
   "outputs": [],
   "source": [
    "flood_cleaned = np.array(pd.read_csv('flood_cleaned.csv'))"
   ]
  },
  {
   "cell_type": "code",
   "execution_count": 34,
   "id": "c4124db6",
   "metadata": {},
   "outputs": [],
   "source": [
    "def get_factor_list(country):\n",
    "    forest = []\n",
    "    co2 = []\n",
    "    floods = []\n",
    "    amount = []\n",
    "    years = np.arange(1990,2019).reshape(29,1)\n",
    "    for item in forest_list:\n",
    "        if item[0] == country:\n",
    "            forest = np.array(item[1:]).reshape(29, 1)\n",
    "    forest = np.column_stack((years, forest))\n",
    "    for item in co2_list:\n",
    "        if item[0] == country:\n",
    "            co2 = np.array(item[1:]).reshape(29, 1)\n",
    "    co2 = np.column_stack((years, co2))\n",
    "    for item in flood_cleaned:\n",
    "        if item[2] ==country:\n",
    "            floods.append(item)  \n",
    "    for i in np.arange(1990,2019):\n",
    "        n = 0\n",
    "        for item in floods:\n",
    "            if float(item[7][0:4]) == i:\n",
    "                n = n+1\n",
    "        amount.append([i,n])\n",
    "    np.savetxt('factor/'+country+'_forest.csv', forest, delimiter=',', fmt = '%s')\n",
    "    np.savetxt('factor/'+country+'_co2.csv', co2, delimiter=',', fmt = '%s')\n",
    "    np.savetxt('factor/'+country+'_amount.csv', amount, delimiter=',', fmt = '%s')\n",
    "    return forest, co2, amount"
   ]
  },
  {
   "cell_type": "code",
   "execution_count": 35,
   "id": "75807d30",
   "metadata": {},
   "outputs": [],
   "source": [
    "countries = ['China', 'United States', 'India', 'Indonesia', 'Philippines']"
   ]
  },
  {
   "cell_type": "code",
   "execution_count": 36,
   "id": "5dee8587",
   "metadata": {},
   "outputs": [],
   "source": [
    "for country in countries:\n",
    "    get_factor_list(country)"
   ]
  },
  {
   "cell_type": "code",
   "execution_count": null,
   "id": "f3ef5ab7",
   "metadata": {},
   "outputs": [],
   "source": []
  }
 ],
 "metadata": {
  "kernelspec": {
   "display_name": "Python 3 (ipykernel)",
   "language": "python",
   "name": "python3"
  },
  "language_info": {
   "codemirror_mode": {
    "name": "ipython",
    "version": 3
   },
   "file_extension": ".py",
   "mimetype": "text/x-python",
   "name": "python",
   "nbconvert_exporter": "python",
   "pygments_lexer": "ipython3",
   "version": "3.9.10"
  }
 },
 "nbformat": 4,
 "nbformat_minor": 5
}
